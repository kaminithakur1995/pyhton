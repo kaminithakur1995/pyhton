{
 "cells": [
  {
   "cell_type": "code",
   "execution_count": 2,
   "id": "5163e896",
   "metadata": {},
   "outputs": [],
   "source": [
    "import numpy as np\n",
    "import pandas as pd\n",
    "import matplotlib.pyplot as plt\n",
    "import seaborn as snd"
   ]
  },
  {
   "cell_type": "code",
   "execution_count": 3,
   "id": "70863ce9",
   "metadata": {},
   "outputs": [
    {
     "data": {
      "text/html": [
       "<div>\n",
       "<style scoped>\n",
       "    .dataframe tbody tr th:only-of-type {\n",
       "        vertical-align: middle;\n",
       "    }\n",
       "\n",
       "    .dataframe tbody tr th {\n",
       "        vertical-align: top;\n",
       "    }\n",
       "\n",
       "    .dataframe thead th {\n",
       "        text-align: right;\n",
       "    }\n",
       "</style>\n",
       "<table border=\"1\" class=\"dataframe\">\n",
       "  <thead>\n",
       "    <tr style=\"text-align: right;\">\n",
       "      <th></th>\n",
       "      <th>Restaurant ID</th>\n",
       "      <th>Restaurant Name</th>\n",
       "      <th>Country Code</th>\n",
       "      <th>City</th>\n",
       "      <th>Address</th>\n",
       "      <th>Locality</th>\n",
       "      <th>Locality Verbose</th>\n",
       "      <th>Longitude</th>\n",
       "      <th>Latitude</th>\n",
       "      <th>Cuisines</th>\n",
       "      <th>...</th>\n",
       "      <th>Currency</th>\n",
       "      <th>Has Table booking</th>\n",
       "      <th>Has Online delivery</th>\n",
       "      <th>Is delivering now</th>\n",
       "      <th>Switch to order menu</th>\n",
       "      <th>Price range</th>\n",
       "      <th>Aggregate rating</th>\n",
       "      <th>Rating color</th>\n",
       "      <th>Rating text</th>\n",
       "      <th>Votes</th>\n",
       "    </tr>\n",
       "  </thead>\n",
       "  <tbody>\n",
       "    <tr>\n",
       "      <th>0</th>\n",
       "      <td>6317637</td>\n",
       "      <td>Le Petit Souffle</td>\n",
       "      <td>162</td>\n",
       "      <td>Makati City</td>\n",
       "      <td>Third Floor, Century City Mall, Kalayaan Avenu...</td>\n",
       "      <td>Century City Mall, Poblacion, Makati City</td>\n",
       "      <td>Century City Mall, Poblacion, Makati City, Mak...</td>\n",
       "      <td>121.027535</td>\n",
       "      <td>14.565443</td>\n",
       "      <td>French, Japanese, Desserts</td>\n",
       "      <td>...</td>\n",
       "      <td>Botswana Pula(P)</td>\n",
       "      <td>Yes</td>\n",
       "      <td>No</td>\n",
       "      <td>No</td>\n",
       "      <td>No</td>\n",
       "      <td>3</td>\n",
       "      <td>4.8</td>\n",
       "      <td>Dark Green</td>\n",
       "      <td>Excellent</td>\n",
       "      <td>314</td>\n",
       "    </tr>\n",
       "    <tr>\n",
       "      <th>1</th>\n",
       "      <td>6304287</td>\n",
       "      <td>Izakaya Kikufuji</td>\n",
       "      <td>162</td>\n",
       "      <td>Makati City</td>\n",
       "      <td>Little Tokyo, 2277 Chino Roces Avenue, Legaspi...</td>\n",
       "      <td>Little Tokyo, Legaspi Village, Makati City</td>\n",
       "      <td>Little Tokyo, Legaspi Village, Makati City, Ma...</td>\n",
       "      <td>121.014101</td>\n",
       "      <td>14.553708</td>\n",
       "      <td>Japanese</td>\n",
       "      <td>...</td>\n",
       "      <td>Botswana Pula(P)</td>\n",
       "      <td>Yes</td>\n",
       "      <td>No</td>\n",
       "      <td>No</td>\n",
       "      <td>No</td>\n",
       "      <td>3</td>\n",
       "      <td>4.5</td>\n",
       "      <td>Dark Green</td>\n",
       "      <td>Excellent</td>\n",
       "      <td>591</td>\n",
       "    </tr>\n",
       "    <tr>\n",
       "      <th>2</th>\n",
       "      <td>6300002</td>\n",
       "      <td>Heat - Edsa Shangri-La</td>\n",
       "      <td>162</td>\n",
       "      <td>Mandaluyong City</td>\n",
       "      <td>Edsa Shangri-La, 1 Garden Way, Ortigas, Mandal...</td>\n",
       "      <td>Edsa Shangri-La, Ortigas, Mandaluyong City</td>\n",
       "      <td>Edsa Shangri-La, Ortigas, Mandaluyong City, Ma...</td>\n",
       "      <td>121.056831</td>\n",
       "      <td>14.581404</td>\n",
       "      <td>Seafood, Asian, Filipino, Indian</td>\n",
       "      <td>...</td>\n",
       "      <td>Botswana Pula(P)</td>\n",
       "      <td>Yes</td>\n",
       "      <td>No</td>\n",
       "      <td>No</td>\n",
       "      <td>No</td>\n",
       "      <td>4</td>\n",
       "      <td>4.4</td>\n",
       "      <td>Green</td>\n",
       "      <td>Very Good</td>\n",
       "      <td>270</td>\n",
       "    </tr>\n",
       "    <tr>\n",
       "      <th>3</th>\n",
       "      <td>6318506</td>\n",
       "      <td>Ooma</td>\n",
       "      <td>162</td>\n",
       "      <td>Mandaluyong City</td>\n",
       "      <td>Third Floor, Mega Fashion Hall, SM Megamall, O...</td>\n",
       "      <td>SM Megamall, Ortigas, Mandaluyong City</td>\n",
       "      <td>SM Megamall, Ortigas, Mandaluyong City, Mandal...</td>\n",
       "      <td>121.056475</td>\n",
       "      <td>14.585318</td>\n",
       "      <td>Japanese, Sushi</td>\n",
       "      <td>...</td>\n",
       "      <td>Botswana Pula(P)</td>\n",
       "      <td>No</td>\n",
       "      <td>No</td>\n",
       "      <td>No</td>\n",
       "      <td>No</td>\n",
       "      <td>4</td>\n",
       "      <td>4.9</td>\n",
       "      <td>Dark Green</td>\n",
       "      <td>Excellent</td>\n",
       "      <td>365</td>\n",
       "    </tr>\n",
       "    <tr>\n",
       "      <th>4</th>\n",
       "      <td>6314302</td>\n",
       "      <td>Sambo Kojin</td>\n",
       "      <td>162</td>\n",
       "      <td>Mandaluyong City</td>\n",
       "      <td>Third Floor, Mega Atrium, SM Megamall, Ortigas...</td>\n",
       "      <td>SM Megamall, Ortigas, Mandaluyong City</td>\n",
       "      <td>SM Megamall, Ortigas, Mandaluyong City, Mandal...</td>\n",
       "      <td>121.057508</td>\n",
       "      <td>14.584450</td>\n",
       "      <td>Japanese, Korean</td>\n",
       "      <td>...</td>\n",
       "      <td>Botswana Pula(P)</td>\n",
       "      <td>Yes</td>\n",
       "      <td>No</td>\n",
       "      <td>No</td>\n",
       "      <td>No</td>\n",
       "      <td>4</td>\n",
       "      <td>4.8</td>\n",
       "      <td>Dark Green</td>\n",
       "      <td>Excellent</td>\n",
       "      <td>229</td>\n",
       "    </tr>\n",
       "  </tbody>\n",
       "</table>\n",
       "<p>5 rows × 21 columns</p>\n",
       "</div>"
      ],
      "text/plain": [
       "   Restaurant ID         Restaurant Name  Country Code              City  \\\n",
       "0        6317637        Le Petit Souffle           162       Makati City   \n",
       "1        6304287        Izakaya Kikufuji           162       Makati City   \n",
       "2        6300002  Heat - Edsa Shangri-La           162  Mandaluyong City   \n",
       "3        6318506                    Ooma           162  Mandaluyong City   \n",
       "4        6314302             Sambo Kojin           162  Mandaluyong City   \n",
       "\n",
       "                                             Address  \\\n",
       "0  Third Floor, Century City Mall, Kalayaan Avenu...   \n",
       "1  Little Tokyo, 2277 Chino Roces Avenue, Legaspi...   \n",
       "2  Edsa Shangri-La, 1 Garden Way, Ortigas, Mandal...   \n",
       "3  Third Floor, Mega Fashion Hall, SM Megamall, O...   \n",
       "4  Third Floor, Mega Atrium, SM Megamall, Ortigas...   \n",
       "\n",
       "                                     Locality  \\\n",
       "0   Century City Mall, Poblacion, Makati City   \n",
       "1  Little Tokyo, Legaspi Village, Makati City   \n",
       "2  Edsa Shangri-La, Ortigas, Mandaluyong City   \n",
       "3      SM Megamall, Ortigas, Mandaluyong City   \n",
       "4      SM Megamall, Ortigas, Mandaluyong City   \n",
       "\n",
       "                                    Locality Verbose   Longitude   Latitude  \\\n",
       "0  Century City Mall, Poblacion, Makati City, Mak...  121.027535  14.565443   \n",
       "1  Little Tokyo, Legaspi Village, Makati City, Ma...  121.014101  14.553708   \n",
       "2  Edsa Shangri-La, Ortigas, Mandaluyong City, Ma...  121.056831  14.581404   \n",
       "3  SM Megamall, Ortigas, Mandaluyong City, Mandal...  121.056475  14.585318   \n",
       "4  SM Megamall, Ortigas, Mandaluyong City, Mandal...  121.057508  14.584450   \n",
       "\n",
       "                           Cuisines  ...          Currency Has Table booking  \\\n",
       "0        French, Japanese, Desserts  ...  Botswana Pula(P)               Yes   \n",
       "1                          Japanese  ...  Botswana Pula(P)               Yes   \n",
       "2  Seafood, Asian, Filipino, Indian  ...  Botswana Pula(P)               Yes   \n",
       "3                   Japanese, Sushi  ...  Botswana Pula(P)                No   \n",
       "4                  Japanese, Korean  ...  Botswana Pula(P)               Yes   \n",
       "\n",
       "  Has Online delivery Is delivering now Switch to order menu Price range  \\\n",
       "0                  No                No                   No           3   \n",
       "1                  No                No                   No           3   \n",
       "2                  No                No                   No           4   \n",
       "3                  No                No                   No           4   \n",
       "4                  No                No                   No           4   \n",
       "\n",
       "   Aggregate rating  Rating color Rating text Votes  \n",
       "0               4.8    Dark Green   Excellent   314  \n",
       "1               4.5    Dark Green   Excellent   591  \n",
       "2               4.4         Green   Very Good   270  \n",
       "3               4.9    Dark Green   Excellent   365  \n",
       "4               4.8    Dark Green   Excellent   229  \n",
       "\n",
       "[5 rows x 21 columns]"
      ]
     },
     "execution_count": 3,
     "metadata": {},
     "output_type": "execute_result"
    }
   ],
   "source": [
    "zomato=pd.read_csv('zomato.csv')\n",
    "zomato.head()"
   ]
  },
  {
   "cell_type": "code",
   "execution_count": 4,
   "id": "3870a041",
   "metadata": {},
   "outputs": [
    {
     "name": "stdout",
     "output_type": "stream",
     "text": [
      "<class 'pandas.core.frame.DataFrame'>\n",
      "RangeIndex: 9551 entries, 0 to 9550\n",
      "Data columns (total 21 columns):\n",
      " #   Column                Non-Null Count  Dtype  \n",
      "---  ------                --------------  -----  \n",
      " 0   Restaurant ID         9551 non-null   int64  \n",
      " 1   Restaurant Name       9551 non-null   object \n",
      " 2   Country Code          9551 non-null   int64  \n",
      " 3   City                  9551 non-null   object \n",
      " 4   Address               9551 non-null   object \n",
      " 5   Locality              9551 non-null   object \n",
      " 6   Locality Verbose      9551 non-null   object \n",
      " 7   Longitude             9551 non-null   float64\n",
      " 8   Latitude              9551 non-null   float64\n",
      " 9   Cuisines              9542 non-null   object \n",
      " 10  Average Cost for two  9551 non-null   int64  \n",
      " 11  Currency              9551 non-null   object \n",
      " 12  Has Table booking     9551 non-null   object \n",
      " 13  Has Online delivery   9551 non-null   object \n",
      " 14  Is delivering now     9551 non-null   object \n",
      " 15  Switch to order menu  9551 non-null   object \n",
      " 16  Price range           9551 non-null   int64  \n",
      " 17  Aggregate rating      9551 non-null   float64\n",
      " 18  Rating color          9551 non-null   object \n",
      " 19  Rating text           9551 non-null   object \n",
      " 20  Votes                 9551 non-null   int64  \n",
      "dtypes: float64(3), int64(5), object(13)\n",
      "memory usage: 1.5+ MB\n"
     ]
    }
   ],
   "source": [
    "zomato.info()"
   ]
  },
  {
   "cell_type": "code",
   "execution_count": 5,
   "id": "d5f28b8c",
   "metadata": {},
   "outputs": [],
   "source": [
    "zomato.drop(['Restaurant ID','Longitude','Latitude','Locality Verbose','Switch to order menu','Rating color'],axis=1,inplace=True)"
   ]
  },
  {
   "cell_type": "code",
   "execution_count": 6,
   "id": "e59d0312",
   "metadata": {},
   "outputs": [
    {
     "data": {
      "text/plain": [
       "(9551, 15)"
      ]
     },
     "execution_count": 6,
     "metadata": {},
     "output_type": "execute_result"
    }
   ],
   "source": [
    "zomato.shape"
   ]
  },
  {
   "cell_type": "code",
   "execution_count": 7,
   "id": "9e9303c3",
   "metadata": {},
   "outputs": [
    {
     "data": {
      "text/plain": [
       "0"
      ]
     },
     "execution_count": 7,
     "metadata": {},
     "output_type": "execute_result"
    }
   ],
   "source": [
    "### Duplicate Sum\n",
    "zomato.duplicated().sum()"
   ]
  },
  {
   "cell_type": "code",
   "execution_count": 8,
   "id": "701d36ae",
   "metadata": {
    "scrolled": true
   },
   "outputs": [
    {
     "data": {
      "text/plain": [
       "Restaurant Name         0\n",
       "Country Code            0\n",
       "City                    0\n",
       "Address                 0\n",
       "Locality                0\n",
       "Cuisines                9\n",
       "Average Cost for two    0\n",
       "Currency                0\n",
       "Has Table booking       0\n",
       "Has Online delivery     0\n",
       "Is delivering now       0\n",
       "Price range             0\n",
       "Aggregate rating        0\n",
       "Rating text             0\n",
       "Votes                   0\n",
       "dtype: int64"
      ]
     },
     "execution_count": 8,
     "metadata": {},
     "output_type": "execute_result"
    }
   ],
   "source": [
    "### check for null value\n",
    "zomato.isnull().sum()"
   ]
  },
  {
   "cell_type": "code",
   "execution_count": 9,
   "id": "dd27fe0a",
   "metadata": {},
   "outputs": [
    {
     "data": {
      "text/plain": [
       "(9542, 15)"
      ]
     },
     "execution_count": 9,
     "metadata": {},
     "output_type": "execute_result"
    }
   ],
   "source": [
    "### remove null value \n",
    "zomato.dropna(how='any',inplace=True)\n",
    "zomato.shape"
   ]
  },
  {
   "cell_type": "code",
   "execution_count": 10,
   "id": "18207c98",
   "metadata": {},
   "outputs": [
    {
     "data": {
      "text/plain": [
       "Index(['Restaurant Name', 'Country Code', 'City', 'Address', 'Locality',\n",
       "       'Cuisines', 'Average Cost for two', 'Currency', 'Has Table booking',\n",
       "       'Has Online delivery', 'Is delivering now', 'Price range',\n",
       "       'Aggregate rating', 'Rating text', 'Votes'],\n",
       "      dtype='object')"
      ]
     },
     "execution_count": 10,
     "metadata": {},
     "output_type": "execute_result"
    }
   ],
   "source": [
    "zomato.columns"
   ]
  },
  {
   "cell_type": "code",
   "execution_count": 11,
   "id": "b1e882d9",
   "metadata": {},
   "outputs": [
    {
     "name": "stdout",
     "output_type": "stream",
     "text": [
      "<class 'pandas.core.frame.DataFrame'>\n",
      "Int64Index: 9542 entries, 0 to 9550\n",
      "Data columns (total 15 columns):\n",
      " #   Column                Non-Null Count  Dtype  \n",
      "---  ------                --------------  -----  \n",
      " 0   Restaurant Name       9542 non-null   object \n",
      " 1   Country Code          9542 non-null   int64  \n",
      " 2   City                  9542 non-null   object \n",
      " 3   Address               9542 non-null   object \n",
      " 4   Locality              9542 non-null   object \n",
      " 5   Cuisines              9542 non-null   object \n",
      " 6   Average Cost for two  9542 non-null   int64  \n",
      " 7   Currency              9542 non-null   object \n",
      " 8   Has Table booking     9542 non-null   object \n",
      " 9   Has Online delivery   9542 non-null   object \n",
      " 10  Is delivering now     9542 non-null   object \n",
      " 11  Price range           9542 non-null   int64  \n",
      " 12  Aggregate rating      9542 non-null   float64\n",
      " 13  Rating text           9542 non-null   object \n",
      " 14  Votes                 9542 non-null   int64  \n",
      "dtypes: float64(1), int64(4), object(10)\n",
      "memory usage: 1.2+ MB\n"
     ]
    }
   ],
   "source": [
    "zomato.info()"
   ]
  },
  {
   "cell_type": "code",
   "execution_count": 12,
   "id": "9935b688",
   "metadata": {},
   "outputs": [
    {
     "data": {
      "text/plain": [
       "1      8652\n",
       "216     425\n",
       "215      80\n",
       "189      60\n",
       "30       60\n",
       "214      60\n",
       "148      40\n",
       "208      34\n",
       "14       24\n",
       "162      22\n",
       "94       21\n",
       "184      20\n",
       "166      20\n",
       "191      20\n",
       "37        4\n",
       "Name: Country Code, dtype: int64"
      ]
     },
     "execution_count": 12,
     "metadata": {},
     "output_type": "execute_result"
    }
   ],
   "source": [
    "zomato['Country Code'].value_counts()\n",
    "## maximum resturant located in india "
   ]
  },
  {
   "cell_type": "markdown",
   "id": "7286a203",
   "metadata": {},
   "source": [
    "##### FInding City with Cheap  Restaurant\n",
    "> First step will be to find the restaurants with average cost 25th percentile . We only pick the restaurants that are less than  1/4th of average Cost and find the most common city .\n"
   ]
  },
  {
   "cell_type": "code",
   "execution_count": 32,
   "id": "ba87630f",
   "metadata": {},
   "outputs": [
    {
     "data": {
      "text/plain": [
       "New Delhi     1367\n",
       "Noida          198\n",
       "Gurgaon        177\n",
       "Faridabad       60\n",
       "Amritsar         5\n",
       "Ghaziabad        4\n",
       "Puducherry       3\n",
       "Nagpur           3\n",
       "Bhopal           2\n",
       "Nashik           2\n",
       "Surat            2\n",
       "Allahabad        1\n",
       "Indore           1\n",
       "Lucknow          1\n",
       "Mangalore        1\n",
       "Varanasi         1\n",
       "Ranchi           1\n",
       "Name: City, dtype: int64"
      ]
     },
     "execution_count": 32,
     "metadata": {},
     "output_type": "execute_result"
    }
   ],
   "source": [
    "## City with cheap restaurants\n",
    "th25 = np.percentile(zomato['Average Cost for two'], q=[ 25])\n",
    "city_with_cheap = zomato[['Average Cost for two','City','Restaurant Name']][zomato['Country Code']==1]\n",
    "city_with_cheap=city_with_cheap[city_with_cheap['Average Cost for two']!=0]\n",
    "city_with_cheap=city_with_cheap[city_with_cheap['Average Cost for two']<=th25[0]]\n",
    "city_with_cheap.sort_values(by='Average Cost for two',ascending=True,inplace=True)\n",
    "\n",
    "city_with_cheap['City'].value_counts()\n",
    "\n",
    "# city_with_cheap=city_with_cheap[city_with_cheap['Average Cost for two']<=th25[0]]\n",
    "#print(city_with_cheap)"
   ]
  },
  {
   "cell_type": "code",
   "execution_count": 29,
   "id": "81e74092",
   "metadata": {
    "scrolled": true
   },
   "outputs": [
    {
     "data": {
      "image/png": "[encoded data removed]",
      "text/plain": [
       "<Figure size 360x288 with 1 Axes>"
      ]
     },
     "metadata": {
      "needs_background": "light"
     },
     "output_type": "display_data"
    }
   ],
   "source": [
    "plt.figure(figsize =(5,4))\n",
    "plt.hist(city_with_cheap['City'], bins=50, density=True, alpha=0.6, color='b')\n",
    "plt.title('City with Cheap  Restaurant')\n",
    "plt.xticks(rotation=90)\n",
    "plt.xlabel('City')\n",
    "plt.show()\n"
   ]
  },
  {
   "cell_type": "markdown",
   "id": "1a4ddd52",
   "metadata": {},
   "source": [
    "### After explore the data, we can make a conclusion that the city with cheap restaurant is New Dehli. Beacuae dehli accur most of time in  data that is less than 25%. "
   ]
  },
  {
   "cell_type": "markdown",
   "id": "fff0976f",
   "metadata": {},
   "source": [
    "#### Restaurant with largest number of votes\n",
    ">To find the restaurant with lagest number of votes .We only pick top 10 by votes.  "
   ]
  },
  {
   "cell_type": "code",
   "execution_count": 34,
   "id": "10b243a9",
   "metadata": {},
   "outputs": [
    {
     "data": {
      "text/plain": [
       "Text(0, 0.5, 'Vote')"
      ]
     },
     "execution_count": 34,
     "metadata": {},
     "output_type": "execute_result"
    },
    {
     "data": {
      "image/png": "[encoded data removed]",
      "text/plain": [
       "<Figure size 432x288 with 1 Axes>"
      ]
     },
     "metadata": {
      "needs_background": "light"
     },
     "output_type": "display_data"
    }
   ],
   "source": [
    "###Restaurant with largest number of votes\n",
    "votes=zomato[['Restaurant Name','Votes','City']][zomato['Country Code']==1]\n",
    "votes.sort_values(by='Votes',ascending=False,inplace=True)\n",
    "plt.bar(height=votes['Votes'][0:10],x=votes['Restaurant Name'][0:10] + ' ' + votes['City'][0:10])\n",
    "plt.title('TOP 10 Restaurant with largest number of votes')\n",
    "plt.xticks(rotation=90)\n",
    "plt.xlabel('Restaurant')\n",
    "plt.ylabel('Vote')\n"
   ]
  },
  {
   "cell_type": "markdown",
   "id": "8a2e81e2",
   "metadata": {},
   "source": [
    "> After explore data .We found that Tiot in Bangalore has largest vote ."
   ]
  },
  {
   "cell_type": "markdown",
   "id": "625636da",
   "metadata": {},
   "source": [
    "#### City with  Most expensive restaurant \n",
    ">First step will be to find the restaurants with average cost 75th percentile . We only pick the restaurants that are less than 1/4th of average Cost and find the most common city .\n"
   ]
  },
  {
   "cell_type": "code",
   "execution_count": 37,
   "id": "9d20028e",
   "metadata": {},
   "outputs": [
    {
     "data": {
      "text/html": [
       "<div>\n",
       "<style scoped>\n",
       "    .dataframe tbody tr th:only-of-type {\n",
       "        vertical-align: middle;\n",
       "    }\n",
       "\n",
       "    .dataframe tbody tr th {\n",
       "        vertical-align: top;\n",
       "    }\n",
       "\n",
       "    .dataframe thead th {\n",
       "        text-align: right;\n",
       "    }\n",
       "</style>\n",
       "<table border=\"1\" class=\"dataframe\">\n",
       "  <thead>\n",
       "    <tr style=\"text-align: right;\">\n",
       "      <th></th>\n",
       "      <th>Average Cost for two</th>\n",
       "      <th>City</th>\n",
       "      <th>Restaurant Name</th>\n",
       "    </tr>\n",
       "  </thead>\n",
       "  <tbody>\n",
       "    <tr>\n",
       "      <th>7543</th>\n",
       "      <td>8000</td>\n",
       "      <td>New Delhi</td>\n",
       "      <td>Orient Express - Taj Palace Hotel</td>\n",
       "    </tr>\n",
       "    <tr>\n",
       "      <th>4088</th>\n",
       "      <td>7000</td>\n",
       "      <td>New Delhi</td>\n",
       "      <td>Tian - Asian Cuisine Studio - ITC Maurya</td>\n",
       "    </tr>\n",
       "    <tr>\n",
       "      <th>4087</th>\n",
       "      <td>6500</td>\n",
       "      <td>New Delhi</td>\n",
       "      <td>Bukhara - ITC Maurya</td>\n",
       "    </tr>\n",
       "    <tr>\n",
       "      <th>7499</th>\n",
       "      <td>6000</td>\n",
       "      <td>New Delhi</td>\n",
       "      <td>The Spice Route - The Imperial</td>\n",
       "    </tr>\n",
       "    <tr>\n",
       "      <th>7492</th>\n",
       "      <td>6000</td>\n",
       "      <td>New Delhi</td>\n",
       "      <td>Nostalgia at 1911 Brasserie - The Imperial</td>\n",
       "    </tr>\n",
       "    <tr>\n",
       "      <th>...</th>\n",
       "      <td>...</td>\n",
       "      <td>...</td>\n",
       "      <td>...</td>\n",
       "    </tr>\n",
       "    <tr>\n",
       "      <th>5504</th>\n",
       "      <td>750</td>\n",
       "      <td>New Delhi</td>\n",
       "      <td>Ingredients</td>\n",
       "    </tr>\n",
       "    <tr>\n",
       "      <th>6945</th>\n",
       "      <td>750</td>\n",
       "      <td>New Delhi</td>\n",
       "      <td>Facebook Fast Food</td>\n",
       "    </tr>\n",
       "    <tr>\n",
       "      <th>7614</th>\n",
       "      <td>750</td>\n",
       "      <td>New Delhi</td>\n",
       "      <td>Ahad Sons Restaurant</td>\n",
       "    </tr>\n",
       "    <tr>\n",
       "      <th>8729</th>\n",
       "      <td>750</td>\n",
       "      <td>Noida</td>\n",
       "      <td>Khidmat</td>\n",
       "    </tr>\n",
       "    <tr>\n",
       "      <th>3800</th>\n",
       "      <td>720</td>\n",
       "      <td>New Delhi</td>\n",
       "      <td>Baked Love By Vatsala</td>\n",
       "    </tr>\n",
       "  </tbody>\n",
       "</table>\n",
       "<p>1994 rows × 3 columns</p>\n",
       "</div>"
      ],
      "text/plain": [
       "      Average Cost for two       City  \\\n",
       "7543                  8000  New Delhi   \n",
       "4088                  7000  New Delhi   \n",
       "4087                  6500  New Delhi   \n",
       "7499                  6000  New Delhi   \n",
       "7492                  6000  New Delhi   \n",
       "...                    ...        ...   \n",
       "5504                   750  New Delhi   \n",
       "6945                   750  New Delhi   \n",
       "7614                   750  New Delhi   \n",
       "8729                   750      Noida   \n",
       "3800                   720  New Delhi   \n",
       "\n",
       "                                 Restaurant Name  \n",
       "7543           Orient Express - Taj Palace Hotel  \n",
       "4088    Tian - Asian Cuisine Studio - ITC Maurya  \n",
       "4087                        Bukhara - ITC Maurya  \n",
       "7499              The Spice Route - The Imperial  \n",
       "7492  Nostalgia at 1911 Brasserie - The Imperial  \n",
       "...                                          ...  \n",
       "5504                                 Ingredients  \n",
       "6945                          Facebook Fast Food  \n",
       "7614                        Ahad Sons Restaurant  \n",
       "8729                                     Khidmat  \n",
       "3800                       Baked Love By Vatsala  \n",
       "\n",
       "[1994 rows x 3 columns]"
      ]
     },
     "execution_count": 37,
     "metadata": {},
     "output_type": "execute_result"
    }
   ],
   "source": [
    "th75 = np.percentile(zomato['Average Cost for two'], q=[75])\n",
    "city_with_expensive = zomato[['Average Cost for two','City','Restaurant Name']][zomato['Country Code']==1]\n",
    "city_with_expensive.sort_values(by='Average Cost for two',ascending=False,inplace=True)\n",
    "city_with_expensive=city_with_expensive[city_with_expensive['Average Cost for two']!=0]\n",
    "city_with_expensive=city_with_expensive[city_with_expensive['Average Cost for two']>th75[0]]\n",
    "city_with_expensive\n",
    "\n"
   ]
  },
  {
   "cell_type": "code",
   "execution_count": 38,
   "id": "289e8374",
   "metadata": {},
   "outputs": [
    {
     "data": {
      "image/png": "[encoded data removed]",
      "text/plain": [
       "<Figure size 720x288 with 1 Axes>"
      ]
     },
     "metadata": {
      "needs_background": "light"
     },
     "output_type": "display_data"
    }
   ],
   "source": [
    "plt.figure(figsize =(10,4))\n",
    "plt.hist(city_with_expensive['City'], bins=50, density=True, alpha=0.6, color='b')\n",
    "plt.xticks(rotation=90)\n",
    "plt.title('City with  Most expensive restaurant')\n",
    "plt.show()\n"
   ]
  },
  {
   "cell_type": "markdown",
   "id": "d9eac9fc",
   "metadata": {},
   "source": [
    "#### Msot expensive Restaurant also in dehli \n",
    "\n"
   ]
  },
  {
   "cell_type": "markdown",
   "id": "877eb35a",
   "metadata": {},
   "source": [
    "#### City with excellent rating\n",
    ">To find the city with excellent rating . we only pick resturant has rating more than 4.5 .\n"
   ]
  },
  {
   "cell_type": "code",
   "execution_count": 40,
   "id": "bcb646bf",
   "metadata": {},
   "outputs": [
    {
     "data": {
      "text/html": [
       "<div>\n",
       "<style scoped>\n",
       "    .dataframe tbody tr th:only-of-type {\n",
       "        vertical-align: middle;\n",
       "    }\n",
       "\n",
       "    .dataframe tbody tr th {\n",
       "        vertical-align: top;\n",
       "    }\n",
       "\n",
       "    .dataframe thead th {\n",
       "        text-align: right;\n",
       "    }\n",
       "</style>\n",
       "<table border=\"1\" class=\"dataframe\">\n",
       "  <thead>\n",
       "    <tr style=\"text-align: right;\">\n",
       "      <th></th>\n",
       "      <th>City</th>\n",
       "      <th>Aggregate rating</th>\n",
       "    </tr>\n",
       "  </thead>\n",
       "  <tbody>\n",
       "    <tr>\n",
       "      <th>637</th>\n",
       "      <td>Agra</td>\n",
       "      <td>4.9</td>\n",
       "    </tr>\n",
       "    <tr>\n",
       "      <th>653</th>\n",
       "      <td>Ahmedabad</td>\n",
       "      <td>4.6</td>\n",
       "    </tr>\n",
       "    <tr>\n",
       "      <th>727</th>\n",
       "      <td>Bangalore</td>\n",
       "      <td>4.7</td>\n",
       "    </tr>\n",
       "    <tr>\n",
       "      <th>728</th>\n",
       "      <td>Bangalore</td>\n",
       "      <td>4.8</td>\n",
       "    </tr>\n",
       "    <tr>\n",
       "      <th>733</th>\n",
       "      <td>Bangalore</td>\n",
       "      <td>4.6</td>\n",
       "    </tr>\n",
       "    <tr>\n",
       "      <th>...</th>\n",
       "      <td>...</td>\n",
       "      <td>...</td>\n",
       "    </tr>\n",
       "    <tr>\n",
       "      <th>9157</th>\n",
       "      <td>Pune</td>\n",
       "      <td>4.8</td>\n",
       "    </tr>\n",
       "    <tr>\n",
       "      <th>9195</th>\n",
       "      <td>Secunderabad</td>\n",
       "      <td>4.6</td>\n",
       "    </tr>\n",
       "    <tr>\n",
       "      <th>9228</th>\n",
       "      <td>Vadodara</td>\n",
       "      <td>4.6</td>\n",
       "    </tr>\n",
       "    <tr>\n",
       "      <th>9256</th>\n",
       "      <td>Vizag</td>\n",
       "      <td>4.6</td>\n",
       "    </tr>\n",
       "    <tr>\n",
       "      <th>9262</th>\n",
       "      <td>Vizag</td>\n",
       "      <td>4.9</td>\n",
       "    </tr>\n",
       "  </tbody>\n",
       "</table>\n",
       "<p>79 rows × 2 columns</p>\n",
       "</div>"
      ],
      "text/plain": [
       "              City  Aggregate rating\n",
       "637           Agra               4.9\n",
       "653      Ahmedabad               4.6\n",
       "727      Bangalore               4.7\n",
       "728      Bangalore               4.8\n",
       "733      Bangalore               4.6\n",
       "...            ...               ...\n",
       "9157          Pune               4.8\n",
       "9195  Secunderabad               4.6\n",
       "9228      Vadodara               4.6\n",
       "9256         Vizag               4.6\n",
       "9262         Vizag               4.9\n",
       "\n",
       "[79 rows x 2 columns]"
      ]
     },
     "execution_count": 40,
     "metadata": {},
     "output_type": "execute_result"
    }
   ],
   "source": [
    "city_rating =zomato[['City','Aggregate rating']][zomato['Country Code']==1]\n",
    "city_rating=city_rating[city_rating['Aggregate rating']>4.5]\n",
    "city_rating\n",
    "# plt.figure(figsize =(10,4))\n",
    "# plt.hist(city_rating_top_20['City'][-10:], bins=50, density=True, alpha=0.6, color='b')\n",
    "# plt.xticks(rotation=90)\n",
    "# plt.title('City with excellent rating')\n",
    "# plt.show()\n"
   ]
  },
  {
   "cell_type": "markdown",
   "id": "69bf93a6",
   "metadata": {},
   "source": [
    "##  City with largest number of votes\n"
   ]
  },
  {
   "cell_type": "code",
   "execution_count": 84,
   "id": "09b2384c",
   "metadata": {},
   "outputs": [
    {
     "data": {
      "image/png": "[encoded data removed]",
      "text/plain": [
       "<Figure size 720x288 with 1 Axes>"
      ]
     },
     "metadata": {
      "needs_background": "light"
     },
     "output_type": "display_data"
    }
   ],
   "source": [
    "city_votes =zomato[['City','Votes']][zomato['Country Code']==1]\n",
    "city_votes.sort_values(by='Votes',ascending=False,inplace=True)\n",
    "top_20_city_with_vote  = city_votes[:10]\n",
    "top_20_city_with_vote\n",
    "plt.figure(figsize =(10,4))\n",
    "plt.hist(top_20_city_with_vote['City'], bins=50, density=True, alpha=0.6, color='b')\n",
    "plt.xticks(rotation=90)\n",
    "plt.xlabel=\"City\"\n",
    "plt.ylabel=\"Frequency in top 20 vpotes \"\n",
    "plt.show()\n"
   ]
  },
  {
   "cell_type": "code",
   "execution_count": null,
   "id": "3fde4d64",
   "metadata": {},
   "outputs": [],
   "source": []
  }
 ],
 "metadata": {
  "kernelspec": {
   "display_name": "Python 3",
   "language": "python",
   "name": "python3"
  },
  "language_info": {
   "codemirror_mode": {
    "name": "ipython",
    "version": 3
   },
   "file_extension": ".py",
   "mimetype": "text/x-python",
   "name": "python",
   "nbconvert_exporter": "python",
   "pygments_lexer": "ipython3",
   "version": "3.8.8"
  }
 },
 "nbformat": 4,
 "nbformat_minor": 5
}
